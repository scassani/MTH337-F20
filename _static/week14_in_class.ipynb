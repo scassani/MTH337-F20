{
 "cells": [
  {
   "cell_type": "markdown",
   "metadata": {},
   "source": [
    "# Week 14"
   ]
  },
  {
   "cell_type": "code",
   "execution_count": 1,
   "metadata": {},
   "outputs": [],
   "source": [
    "a={} # creates empty dictionary\n",
    "myset=set() # empty set"
   ]
  },
  {
   "cell_type": "markdown",
   "metadata": {},
   "source": [
    "Q4: Write the code that will put in the list myotherlist all of the characters in the string s that are between\n",
    "’href’ and ’>’. Use a non-greedy approach.\n"
   ]
  },
  {
   "cell_type": "code",
   "execution_count": 2,
   "metadata": {},
   "outputs": [],
   "source": [
    "import requests\n",
    "import re"
   ]
  },
  {
   "cell_type": "code",
   "execution_count": 5,
   "metadata": {},
   "outputs": [
    {
     "name": "stdout",
     "output_type": "stream",
     "text": [
      "<!DOCTYPE HTML><html lang=\"en\" class=\"ubcms-65\"><!-- cmspub03 1130-113650 --><head><meta http-equiv=\n"
     ]
    }
   ],
   "source": [
    "s=requests.get('http://www.buffalo.edu').text\n",
    "print(s[:100])"
   ]
  },
  {
   "cell_type": "code",
   "execution_count": 8,
   "metadata": {},
   "outputs": [
    {
     "name": "stdout",
     "output_type": "stream",
     "text": [
      "['=\"http://www.buffalo.edu/\"/', '=\"/v-bfd85bec249972b0ac04dd653e908594/etc/designs/ubcms/clientlibs.min.bfd85bec249972b0ac04dd653e908594.css\" type=\"text/css\"', '=\"/v-ce4c8396412f15887af20ffcbf6b4e09/etc/designs/www/eub/css/main.css\"/', '=\"#skip-to-content\" id=\"skip-to-content-link\"', '=\"//www.buffalo.edu\"', '=\"//buffalo.edu/\"', '=\"https://www.facebook.com/universityatbuffalo\" class=\"button facebook\"', '=\"https://twitter.com/UBuffalo\" class=\"button twitter\"', '=\"https://www.instagram.com/universityatbuffalo/\" class=\"button instagram\"', '=\"http://giving.buffalo.edu\"', '=\"/ub_admissions/apply-now.html\"', '=\"/home/ub_at_a_glance.html\"', '=\"/home/ub_at_a_glance/world-class-reputation.html\"', '=\"/home/ub_at_a_glance/our-campuses.html\"', '=\"/home/ub_at_a_glance/global_reach.html\"', '=\"/home/ub_at_a_glance/global_reach/learning_with_a_globalperspective.html\"', '=\"/home/ub_at_a_glance/global_reach/ub_s-international-community.html\"', '=\"/home/ub_at_a_glance/global_reach/study--teaching-and-research-abroad.html\"', '=\"/home/ub_at_a_glance/global_reach/centers_and_institutesforinternationalscholarship.html\"', '=\"/home/ub_at_a_glance/global_reach/strategic_international_partners.html\"', '=\"/home/ub_at_a_glance/our_leadership.html\"', '=\"/academics.html\"', '=\"/academics/schools_and_colleges.html\"', '=\"/academics/degree_programs.html\"', '=\"/home/research.html\"', '=\"/home/research/changing_lives.html\"', '=\"/research/research-centers.html\"', '=\"/home/research/undergraduate-research-opportunities.html\"', '=\"/home/research/resources-for-researchers.html\"', '=\"/life.html\"', '=\"/life/our-ub-traditions.html\"', '=\"/life/virtual-backgrounds.html\"', '=\"/ub_admissions.html\"', '=\"/ub_admissions/apply-now.html\"', '=\"/prospective_students.html\"', '=\"/students.html\"', '=\"/faculty_staff.html\"', '=\"/alumni.html\"', '=\"/home/visiting-ub.html\"', '=\"http://www.buffalo.edu/community.html\"', '=\"//www.buffalo.edu/\"', '=\"//www.buffalo.edu/\"', '=\"//www.buffalo.edu\"', '=\"https://www.buffalo.edu/ub_admissions/apply-now.html\"', '=\"http://giving.buffalo.edu\"', '=\"https://www.buffalo.edu/coronavirus\"', '=\"https://buffalo.edu/health-check\"', '=\"/etc/designs/ubmobile/main/clientlibs-static/css/fontawesome.css\" type=\"text/css\"', '=\"/etc/designs/ubmobile/main/clientlibs-static/css/solid.css\" type=\"text/css\"', '=\"https://www.buffalo.edu/news/ub-in-the-news.html\"', '=\"https://www.buffalo.edu/news/ub-in-the-news.html\"', '=\"https://www.buffalo.edu/news/ub-in-the-news.html\"', '=\"https://www.buffalo.edu/news/ub-in-the-news.html\"', '=\"https://www.buffalo.edu/news/ub-in-the-news.html\"', '=\"/home/story-repository.host.html/content/shared/university/news/ub-reporter-articles/stories/2020/11/raja-ffar-grant.detail.html\"', '=\"https://www.si.com/college/2020/11/28/buffalo-jarret-patterson-ties-ncaa-record-for-rushing-touchdowns-in-game\"', '=\"https://www.youtube.com/watch?v=X2PfXXZDsEs\"', '=\"/home/story-repository.host.html/content/shared/university/news/ub-reporter-articles/stories/2020/11/inclusive-pedagogy.detail.html\"', '=\"#\" data-zoom-src=\"/content/shared/www/eub/tlw-prototypes/grid/grid-potw/nursing-flu-shots/jcr:content/module.img.original.jpg/1606750803938.jpg\" data-zoomcaption=\"&lt;b', '=\"https://twitter.com/UBuffalo?ref_src=twsrc%5Etfw\" data-tweet-limit=\"1\" data-chrome=\"nofooter noborders noheader\"', '=\"https://twitter.com/UBuffalo?ref_src=twsrc%5Etfw\" data-chrome=\"nofooter noborders noheader\"', '=\"//www.youtube.com/watch?v=c7GX_3T__zM\" id=\"ubcms-gen-81893110\" class=\"popup vid-449x252 vid-449\"', '=\"javascript:void(0)\"', '=\"javascript:void(0)\"', '=\"javascript:void(0)\"', '=\"javascript:void(0)\"', '=\"javascript:void(0)\"', '=\"javascript:void(0)\"', '=\"javascript:void(0)\"', '=\"javascript:void(0)\"', '=\"javascript:void(0)\"', '=\"javascript:void(0)\"', '=\"javascript:void(0)\"', '=\"javascript:void(0)\"', '=\"javascript:void(0)\"', '=\"javascript:void(0)\"', '=\"javascript:void(0)\"', '=\"javascript:void(0)\"', '=\"javascript:void(0)\"', '=\"javascript:void(0)\"', '=\"javascript:void(0)\"', '=\"javascript:void(0)\"', '=\"javascript:void(0)\"', '=\"javascript:void(0)\"', '=\"javascript:void(0)\"', '=\"javascript:void(0)\"', '=\"javascript:void(0)\"', '=\"javascript:void(0)\"', '=\"javascript:void(0)\"', '=\"javascript:void(0)\"', '=\"javascript:void(0)\"', '=\"javascript:void(0)\"', '=\"javascript:void(0)\"', '=\"javascript:void(0)\"', '=\"javascript:void(0)\"', '=\"javascript:void(0)\"', '=\"javascript:void(0)\"', '=\"javascript:void(0)\"', '=\"javascript:void(0)\"', '=\"javascript:void(0)\"', '=\"javascript:void(0)\"', '=\"javascript:void(0)\"', '=\"javascript:void(0)\"', '=\"javascript:void(0)\"', '=\"javascript:void(0)\"', '=\"javascript:void(0)\"', '=\"javascript:void(0)\"', '=\"javascript:void(0)\"', '=\"javascript:void(0)\"', '=\"/home/ub_at_a_glance.html\"', '=\"#\"', '=\"#\"', '=\"/home/ub_at_a_glance.html\" tabindex=\"-1\"', '=\"/home/ub_at_a_glance.html\"', '=\"/academics/degree_programs.html\" tabindex=\"-1\"', '=\"/academics/degree_programs.html\"', '=\"/home/ub_at_a_glance/world-class-reputation.html\" tabindex=\"-1\"', '=\"/home/ub_at_a_glance/world-class-reputation.html\"', '=\"/life.html\" tabindex=\"-1\"', '=\"/life.html\"', '=\"http://www.buffalo.edu/home/visiting-ub/CampusMaps/maps.html\" tabindex=\"-1\"', '=\"http://www.buffalo.edu/home/visiting-ub/CampusMaps/maps.html\"', '=\"/home/ub_at_a_glance/the-buffalo-niagara-region.html\" tabindex=\"-1\"', '=\"/home/ub_at_a_glance/the-buffalo-niagara-region.html\"', '=\"/academics/degree_programs.html\" class=\"cta-button\"', '=\"/home/visiting-ub.html\" class=\"cta-button\"', '=\"/ub_admissions/apply-now.html\" class=\"cta-button\"', '=\"/home/contact-us.html\" class=\"cta-button\"', '=\"#\"', '=\"/academics/schools_and_colleges.html\"', '=\"http://ap.buffalo.edu/\"', '=\"http://arts-sciences.buffalo.edu/\"', '=\"http://dental.buffalo.edu/\"', '=\"http://ed.buffalo.edu/\"', '=\"http://engineering.buffalo.edu/\"', '=\"http://medicine.buffalo.edu/\"', '=\"http://www.law.buffalo.edu/\"', '=\"http://mgt.buffalo.edu/\"', '=\"http://nursing.buffalo.edu/\"', '=\"http://pharmacy.buffalo.edu/\"', '=\"http://sphhp.buffalo.edu/\"', '=\"https://www.roswellpark.org/education\"', '=\"http://socialwork.buffalo.edu/\"', '=\"http://www.buffalo.edu/directory/\"', '=\"/home/ub_at_a_glance/a-z-index.html\"', '=\"/ub_admissions/apply-now.html\"', '=\"/home/careers-at-ub.html\"', '=\"/home/visiting-ub.html\"', '=\"http://www.buffalo.edu/home/visiting-ub/CampusMaps/maps.html\"', '=\"/home/ub-social-media.html\"', '=\"/home/ub-social-media/facebook.html\" class=\"button facebook\"', '=\"https://twitter.com/UBuffalo\" class=\"button twitter\"', '=\"/home/ub-social-media/linkedin.html\" class=\"button linkedin\"', '=\"https://www.instagram.com/universityatbuffalo/\" class=\"button instagram\"', '=\"/home/ub-social-media/you-tube.html\" class=\"button youtube\"', '=\"https://itunes.apple.com/us/app/ub-mobile/id457650145?mt=8\"', '=\"https://play.google.com/store/apps/details?id=edu.buffalo.ubmobile\"', '=\"//www.buffalo.edu/\"', '=\"/home/contact-us.html\"', '=\"//www.buffalo.edu/\"', '=\"//www.buffalo.edu/administrative-services/policy1/ub-policy-lib/privacy.html\"', '=\"//www.buffalo.edu/access/about-us/contact-us.html\"', '=\"/campaign.html\"', '=\"/campaign.html\"', '=\\\\\"\\\\/content\\\\/www\\\\/news\\\\/ub-in-the-news.html#disclaimer\\\\\"']\n"
     ]
    }
   ],
   "source": [
    "myotherlist=re.findall(r'href(.+?)>',s)\n",
    "print(myotherlist)"
   ]
  },
  {
   "cell_type": "markdown",
   "metadata": {},
   "source": [
    "* you should all have a table with 15 random numbers w/out repetition out of the set [1-45]\n",
    "* let's move on discord until 12. To work on a function that will ask for an input, and will check if the number is in your table, if it is will remove it, and it will tell you if you made tombola (all 15 numbers in the table have been called.)"
   ]
  },
  {
   "cell_type": "code",
   "execution_count": 13,
   "metadata": {},
   "outputs": [],
   "source": [
    "def checkt(x): # x in the tombola table\n",
    "    correct=0\n",
    "    while len(x)>0:\n",
    "        a = int(input())\n",
    "        if a in x:\n",
    "            x.remove(a) # use x.discard(a) if x is a set\n",
    "            correct +=1\n",
    "            print(x)\n",
    "            print('MATCH')\n",
    "            print(f'Total Matches={correct}\\n')\n",
    "        elif a == 0:\n",
    "            raise SystemExit(\"Program End\")\n",
    "        else:\n",
    "            print('NO MATCH')  \n",
    "            print(f'total matches={correct}\\n')\n"
   ]
  },
  {
   "cell_type": "code",
   "execution_count": 11,
   "metadata": {},
   "outputs": [
    {
     "name": "stdout",
     "output_type": "stream",
     "text": [
      "5\n",
      "NO MATCH\n",
      "total matches=0\n",
      "\n",
      "4\n",
      "[1, 2, 3]\n",
      "MATCH\n",
      "Total Matches=1\n",
      "\n",
      "0\n"
     ]
    },
    {
     "ename": "SystemExit",
     "evalue": "Program End",
     "output_type": "error",
     "traceback": [
      "An exception has occurred, use %tb to see the full traceback.\n",
      "\u001b[1;31mSystemExit\u001b[0m\u001b[1;31m:\u001b[0m Program End\n"
     ]
    },
    {
     "name": "stderr",
     "output_type": "stream",
     "text": [
      "C:\\ProgramData\\Anaconda3\\lib\\site-packages\\IPython\\core\\interactiveshell.py:3339: UserWarning: To exit: use 'exit', 'quit', or Ctrl-D.\n",
      "  warn(\"To exit: use 'exit', 'quit', or Ctrl-D.\", stacklevel=1)\n"
     ]
    }
   ],
   "source": [
    "checkt([1,2,3,4])"
   ]
  },
  {
   "cell_type": "code",
   "execution_count": 12,
   "metadata": {},
   "outputs": [
    {
     "name": "stdout",
     "output_type": "stream",
     "text": [
      "1\n",
      "[2, 3, 4]\n",
      "MATCH\n",
      "Total Matches=1\n",
      "\n",
      "2\n",
      "[3, 4]\n",
      "MATCH\n",
      "Total Matches=2\n",
      "\n",
      "3\n",
      "[4]\n",
      "MATCH\n",
      "Total Matches=3\n",
      "\n",
      "4\n",
      "[]\n",
      "MATCH\n",
      "Total Matches=4\n",
      "\n"
     ]
    }
   ],
   "source": [
    "checkt([1,2,3,4])"
   ]
  },
  {
   "cell_type": "markdown",
   "metadata": {},
   "source": [
    "## Dictionaries"
   ]
  },
  {
   "cell_type": "markdown",
   "metadata": {},
   "source": [
    "similar to lists, indexed by keys, created with curly brackets `mydict={key1:value1,key2:value2}`"
   ]
  },
  {
   "cell_type": "code",
   "execution_count": 15,
   "metadata": {},
   "outputs": [],
   "source": [
    "ratings={'Terminator II':9.5,'Frozen':7,'Star Wars e3':8,'Cats':2}"
   ]
  },
  {
   "cell_type": "code",
   "execution_count": 16,
   "metadata": {},
   "outputs": [
    {
     "data": {
      "text/plain": [
       "7"
      ]
     },
     "execution_count": 16,
     "metadata": {},
     "output_type": "execute_result"
    }
   ],
   "source": [
    "ratings['Frozen']"
   ]
  },
  {
   "cell_type": "code",
   "execution_count": 24,
   "metadata": {},
   "outputs": [
    {
     "name": "stdout",
     "output_type": "stream",
     "text": [
      "{'Terminator II': 9.5, 'Frozen': 7.5, 'Star Wars e3': 8, 'Cats': 2, 'The Matrix': 9, 'Pulp Fiction': 10}\n"
     ]
    }
   ],
   "source": [
    "ratings['Frozen']=7.5\n",
    "print(ratings)"
   ]
  },
  {
   "cell_type": "code",
   "execution_count": 19,
   "metadata": {},
   "outputs": [
    {
     "name": "stdout",
     "output_type": "stream",
     "text": [
      "{'Terminator II': 9.5, 'Frozen': 7.5, 'Star Wars e3': 8, 'Cats': 2, 'The Matrix': 9}\n"
     ]
    }
   ],
   "source": [
    "ratings['The Matrix']=9 # if the key is not in the dictionary, the element is added\n",
    "print(ratings)"
   ]
  },
  {
   "cell_type": "code",
   "execution_count": 21,
   "metadata": {},
   "outputs": [
    {
     "name": "stdout",
     "output_type": "stream",
     "text": [
      "{'Terminator II': 9.5, 'Frozen': 7.5, 'Star Wars e3': 8, 'Cats': 2, 'The Matrix': 9, 'Pulp Fiction': 10}\n"
     ]
    }
   ],
   "source": [
    "if 'Pulp Fiction' not in ratings: # `in` on dictionaries works on the keys\n",
    "    ratings['Pulp Fiction']=10\n",
    "print(ratings)"
   ]
  },
  {
   "cell_type": "code",
   "execution_count": 22,
   "metadata": {},
   "outputs": [
    {
     "data": {
      "text/plain": [
       "False"
      ]
     },
     "execution_count": 22,
     "metadata": {},
     "output_type": "execute_result"
    }
   ],
   "source": [
    "'Terminator' in ratings"
   ]
  },
  {
   "cell_type": "code",
   "execution_count": 23,
   "metadata": {},
   "outputs": [
    {
     "data": {
      "text/plain": [
       "False"
      ]
     },
     "execution_count": 23,
     "metadata": {},
     "output_type": "execute_result"
    }
   ],
   "source": [
    "2 in ratings"
   ]
  },
  {
   "cell_type": "code",
   "execution_count": 25,
   "metadata": {},
   "outputs": [
    {
     "data": {
      "text/plain": [
       "['Terminator II',\n",
       " 'Frozen',\n",
       " 'Star Wars e3',\n",
       " 'Cats',\n",
       " 'The Matrix',\n",
       " 'Pulp Fiction']"
      ]
     },
     "execution_count": 25,
     "metadata": {},
     "output_type": "execute_result"
    }
   ],
   "source": [
    "list(ratings.keys())"
   ]
  },
  {
   "cell_type": "code",
   "execution_count": 27,
   "metadata": {},
   "outputs": [
    {
     "data": {
      "text/plain": [
       "[9.5, 7.5, 8, 2, 9, 10]"
      ]
     },
     "execution_count": 27,
     "metadata": {},
     "output_type": "execute_result"
    }
   ],
   "source": [
    "list(ratings.values())"
   ]
  },
  {
   "cell_type": "code",
   "execution_count": 28,
   "metadata": {},
   "outputs": [
    {
     "data": {
      "text/plain": [
       "[('Terminator II', 9.5),\n",
       " ('Frozen', 7.5),\n",
       " ('Star Wars e3', 8),\n",
       " ('Cats', 2),\n",
       " ('The Matrix', 9),\n",
       " ('Pulp Fiction', 10)]"
      ]
     },
     "execution_count": 28,
     "metadata": {},
     "output_type": "execute_result"
    }
   ],
   "source": [
    "list(ratings.items())"
   ]
  },
  {
   "cell_type": "markdown",
   "metadata": {},
   "source": [
    "## sorting elements of a list"
   ]
  },
  {
   "cell_type": "code",
   "execution_count": 29,
   "metadata": {},
   "outputs": [
    {
     "name": "stdout",
     "output_type": "stream",
     "text": [
      "['blue', 'green', 'white', 'yellow']\n"
     ]
    }
   ],
   "source": [
    "mylist=['green','white','blue','yellow']\n",
    "mylist=sorted(mylist)\n",
    "print(mylist)"
   ]
  },
  {
   "cell_type": "code",
   "execution_count": 30,
   "metadata": {},
   "outputs": [
    {
     "name": "stdout",
     "output_type": "stream",
     "text": [
      "[-123, -1, 0, 34, 2000]\n"
     ]
    }
   ],
   "source": [
    "mylist2=sorted([-1,2000,34,0,-123])\n",
    "print(mylist2)"
   ]
  },
  {
   "cell_type": "code",
   "execution_count": 32,
   "metadata": {},
   "outputs": [
    {
     "name": "stdout",
     "output_type": "stream",
     "text": [
      "['yellow', 'white', 'green', 'blue']\n"
     ]
    }
   ],
   "source": [
    "mylist=['green','white','blue','yellow']\n",
    "mylist=sorted(mylist,reverse=True)\n",
    "print(mylist)"
   ]
  },
  {
   "cell_type": "code",
   "execution_count": 33,
   "metadata": {},
   "outputs": [
    {
     "ename": "TypeError",
     "evalue": "'<' not supported between instances of 'str' and 'int'",
     "output_type": "error",
     "traceback": [
      "\u001b[1;31m---------------------------------------------------------------------------\u001b[0m",
      "\u001b[1;31mTypeError\u001b[0m                                 Traceback (most recent call last)",
      "\u001b[1;32m<ipython-input-33-0e0248533cb1>\u001b[0m in \u001b[0;36m<module>\u001b[1;34m\u001b[0m\n\u001b[0;32m      1\u001b[0m \u001b[0mmylist\u001b[0m\u001b[1;33m=\u001b[0m\u001b[1;33m[\u001b[0m\u001b[1;36m1\u001b[0m\u001b[1;33m,\u001b[0m\u001b[1;34m'white'\u001b[0m\u001b[1;33m,\u001b[0m\u001b[1;33m-\u001b[0m\u001b[1;36m45\u001b[0m\u001b[1;33m,\u001b[0m\u001b[1;34m'green'\u001b[0m\u001b[1;33m]\u001b[0m\u001b[1;33m\u001b[0m\u001b[1;33m\u001b[0m\u001b[0m\n\u001b[1;32m----> 2\u001b[1;33m \u001b[0mmylist\u001b[0m\u001b[1;33m=\u001b[0m\u001b[0msorted\u001b[0m\u001b[1;33m(\u001b[0m\u001b[0mmylist\u001b[0m\u001b[1;33m)\u001b[0m\u001b[1;33m\u001b[0m\u001b[1;33m\u001b[0m\u001b[0m\n\u001b[0m",
      "\u001b[1;31mTypeError\u001b[0m: '<' not supported between instances of 'str' and 'int'"
     ]
    }
   ],
   "source": [
    "mylist=[1,'white',-45,'green']\n",
    "mylist=sorted(mylist)"
   ]
  },
  {
   "cell_type": "markdown",
   "metadata": {},
   "source": [
    "We can add a 'rule' `key` that python is going to use to sort the list"
   ]
  },
  {
   "cell_type": "code",
   "execution_count": 35,
   "metadata": {},
   "outputs": [
    {
     "name": "stdout",
     "output_type": "stream",
     "text": [
      "[-45, 1, 'green', 'white']\n"
     ]
    }
   ],
   "source": [
    "mylist=sorted(mylist,key=str) # python will aplly the str function before comparing\n",
    "print(mylist)"
   ]
  },
  {
   "cell_type": "code",
   "execution_count": 36,
   "metadata": {},
   "outputs": [
    {
     "name": "stdout",
     "output_type": "stream",
     "text": [
      "[('Terminator II', 9.5), ('Frozen', 7.5), ('Star Wars e3', 8), ('Cats', 2), ('The Matrix', 9), ('Pulp Fiction', 10)]\n"
     ]
    }
   ],
   "source": [
    "myr=list(ratings.items())\n",
    "print(myr)"
   ]
  },
  {
   "cell_type": "code",
   "execution_count": 37,
   "metadata": {},
   "outputs": [
    {
     "name": "stdout",
     "output_type": "stream",
     "text": [
      "[('Cats', 2), ('Frozen', 7.5), ('Pulp Fiction', 10), ('Star Wars e3', 8), ('Terminator II', 9.5), ('The Matrix', 9)]\n"
     ]
    }
   ],
   "source": [
    "print(sorted(myr))"
   ]
  },
  {
   "cell_type": "code",
   "execution_count": 38,
   "metadata": {},
   "outputs": [],
   "source": [
    "def second(x): # defining a function that returns the second element of its argument\n",
    "    return x[1]"
   ]
  },
  {
   "cell_type": "code",
   "execution_count": 40,
   "metadata": {},
   "outputs": [
    {
     "name": "stdout",
     "output_type": "stream",
     "text": [
      "[('Pulp Fiction', 10), ('Terminator II', 9.5), ('The Matrix', 9), ('Star Wars e3', 8), ('Frozen', 7.5), ('Cats', 2)]\n"
     ]
    }
   ],
   "source": [
    "print(sorted(myr,key=second,reverse=True))"
   ]
  },
  {
   "cell_type": "markdown",
   "metadata": {},
   "source": [
    "Want to sort this from highest average to the lowest"
   ]
  },
  {
   "cell_type": "code",
   "execution_count": 45,
   "metadata": {},
   "outputs": [],
   "source": [
    "grades=[[4,6,7],[5,9,1],[2,5,9]] "
   ]
  },
  {
   "cell_type": "code",
   "execution_count": 46,
   "metadata": {},
   "outputs": [],
   "source": [
    "def myfun(x):\n",
    "    return (x[0] + x[1] + x[2])/len(x)\n"
   ]
  },
  {
   "cell_type": "code",
   "execution_count": 47,
   "metadata": {},
   "outputs": [],
   "source": [
    "sgrades=sorted(grades,key=myfun,reverse=True)"
   ]
  },
  {
   "cell_type": "code",
   "execution_count": 48,
   "metadata": {},
   "outputs": [
    {
     "name": "stdout",
     "output_type": "stream",
     "text": [
      "[[4, 6, 7], [2, 5, 9], [5, 9, 1]]\n"
     ]
    }
   ],
   "source": [
    "print(sgrades)"
   ]
  },
  {
   "cell_type": "markdown",
   "metadata": {},
   "source": [
    "## Project 7\n",
    "\n",
    "1. identify all relevant (math dept) pages (`requests`,`re`)\n",
    "2. find page rank of each page (`linear algebra`)\n",
    "3. Sort pages based on rank (`dictionary`,`sorted`)\n",
    "4. create the plot "
   ]
  },
  {
   "cell_type": "code",
   "execution_count": 4,
   "metadata": {},
   "outputs": [],
   "source": [
    "import requests\n",
    "import re"
   ]
  },
  {
   "cell_type": "code",
   "execution_count": 3,
   "metadata": {},
   "outputs": [],
   "source": [
    "ubm=requests.get('http://www.buffalo.edu/cas/math.html').text"
   ]
  },
  {
   "cell_type": "code",
   "execution_count": 6,
   "metadata": {},
   "outputs": [
    {
     "name": "stdout",
     "output_type": "stream",
     "text": [
      "900\n"
     ]
    }
   ],
   "source": [
    "k=ubm.find('href')\n",
    "print(k)"
   ]
  },
  {
   "cell_type": "code",
   "execution_count": 7,
   "metadata": {},
   "outputs": [
    {
     "name": "stdout",
     "output_type": "stream",
     "text": [
      "href=\"http://www.buffalo.edu/cas/math.html\"/><meta name=\"date\" content=\"2020-11-05\"/><meta property=\n"
     ]
    }
   ],
   "source": [
    "print(ubm[k:k+100])"
   ]
  },
  {
   "cell_type": "code",
   "execution_count": 8,
   "metadata": {},
   "outputs": [
    {
     "name": "stdout",
     "output_type": "stream",
     "text": [
      "900\n"
     ]
    }
   ],
   "source": [
    "k=ubm.find('href')\n",
    "print(k)"
   ]
  },
  {
   "cell_type": "code",
   "execution_count": 15,
   "metadata": {},
   "outputs": [],
   "source": [
    "foo=re.findall(r'href=\"(/cas/math.+?)\"',ubm)"
   ]
  },
  {
   "cell_type": "code",
   "execution_count": 16,
   "metadata": {},
   "outputs": [
    {
     "name": "stdout",
     "output_type": "stream",
     "text": [
      "['/cas/math.html', '/cas/math/about-us.html', '/cas/math/news-events/visiting.html', '/cas/math/about-us/why-choose.html', '/cas/math/about-us/our-mission.html', '/cas/math/about-us/our-alumni.html', '/cas/math/about-us/our-alumni/our-alumni.html', '/cas/math/about-us/our-alumni/our-students.html', '/cas/math/about-us/our-alumni/our-faculty.html', '/cas/math/about-us/memberships.html', '/cas/math/about-us/memberships/AMS.html', '/cas/math/about-us/memberships/AWM.html', '/cas/math/about-us/memberships/MSRI.html', '/cas/math/about-us/community-outreach.html', '/cas/math/about-us/about-the-university.html', '/cas/math/about-us/the-buffalo-niagara-region.html', '/cas/math/about-us/contact-us.html', '/cas/math/people.html', '/cas/math/people/faculty.html', '/cas/math/people/staff_directory.html']\n"
     ]
    }
   ],
   "source": [
    "print(foo[:20])"
   ]
  },
  {
   "cell_type": "markdown",
   "metadata": {},
   "source": [
    "Let's split on discord, rooms 1-9, to work on step 1 of project 7."
   ]
  },
  {
   "cell_type": "markdown",
   "metadata": {},
   "source": [
    "`np.linalg`"
   ]
  },
  {
   "cell_type": "code",
   "execution_count": 21,
   "metadata": {},
   "outputs": [],
   "source": [
    "foo=re.findall(r'href=\"(/cas/math.+?)\"',ubm)"
   ]
  },
  {
   "cell_type": "code",
   "execution_count": 22,
   "metadata": {},
   "outputs": [
    {
     "name": "stdout",
     "output_type": "stream",
     "text": [
      "['/cas/math.html', '/cas/math/about-us.html', '/cas/math/news-events/visiting.html', '/cas/math/about-us/why-choose.html', '/cas/math/about-us/our-mission.html', '/cas/math/about-us/our-alumni.html', '/cas/math/about-us/our-alumni/our-alumni.html', '/cas/math/about-us/our-alumni/our-students.html', '/cas/math/about-us/our-alumni/our-faculty.html', '/cas/math/about-us/memberships.html', '/cas/math/about-us/memberships/AMS.html', '/cas/math/about-us/memberships/AWM.html', '/cas/math/about-us/memberships/MSRI.html', '/cas/math/about-us/community-outreach.html', '/cas/math/about-us/about-the-university.html', '/cas/math/about-us/the-buffalo-niagara-region.html', '/cas/math/about-us/contact-us.html', '/cas/math/people.html', '/cas/math/people/faculty.html', '/cas/math/people/staff_directory.html']\n"
     ]
    }
   ],
   "source": [
    "print(foo[:20])"
   ]
  },
  {
   "cell_type": "code",
   "execution_count": 23,
   "metadata": {},
   "outputs": [
    {
     "name": "stdout",
     "output_type": "stream",
     "text": [
      "161\n"
     ]
    }
   ],
   "source": [
    "print(len(foo))"
   ]
  },
  {
   "cell_type": "code",
   "execution_count": null,
   "metadata": {},
   "outputs": [],
   "source": []
  }
 ],
 "metadata": {
  "kernelspec": {
   "display_name": "Python 3",
   "language": "python",
   "name": "python3"
  },
  "language_info": {
   "codemirror_mode": {
    "name": "ipython",
    "version": 3
   },
   "file_extension": ".py",
   "mimetype": "text/x-python",
   "name": "python",
   "nbconvert_exporter": "python",
   "pygments_lexer": "ipython3",
   "version": "3.7.6"
  }
 },
 "nbformat": 4,
 "nbformat_minor": 4
}
